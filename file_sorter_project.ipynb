{
 "cells": [
  {
   "cell_type": "markdown",
   "id": "05f5ad1d-5b51-408e-ad6a-ce67e0b16549",
   "metadata": {},
   "source": [
    "# File sorter in file explorer"
   ]
  },
  {
   "cell_type": "code",
   "execution_count": null,
   "id": "47f2d981-0bc1-4be9-a4af-c78122022025",
   "metadata": {},
   "outputs": [],
   "source": [
    "'''By importing os and shutil, you gain access to a wide range of functionalities that allow you to interact with the file system and perform various \n",
    "file operations in your Python scripts. These modules are particularly useful for tasks such as file organization, backup scripts, \n",
    "and automation of file management tasks.\n",
    "The os module provides a way of using operating system-dependent functionality like reading or writing to the file system. \n",
    "It allows you to interact with the operating system\n",
    "The shutil module provides a higher-level interface for file operations. \n",
    "It is particularly useful for file copying and removal, as well as for managing file system operations. \n",
    "'''"
   ]
  },
  {
   "cell_type": "code",
   "execution_count": 1,
   "id": "a887e46a-06bc-4021-b1df-2086b4bf17f6",
   "metadata": {},
   "outputs": [],
   "source": [
    "import os, shutil"
   ]
  },
  {
   "cell_type": "code",
   "execution_count": 28,
   "id": "fe5b8292-e259-4aae-bc1c-917c81c6c682",
   "metadata": {},
   "outputs": [],
   "source": [
    "path = r\"C:/Temp/\""
   ]
  },
  {
   "cell_type": "code",
   "execution_count": 29,
   "id": "d831f311-7ea6-46cf-a05e-4c4c6f92f836",
   "metadata": {},
   "outputs": [],
   "source": [
    "file_names= os.listdir(path)"
   ]
  },
  {
   "cell_type": "code",
   "execution_count": 30,
   "id": "032cdcbc-8de5-4371-923c-984160cf3025",
   "metadata": {},
   "outputs": [
    {
     "data": {
      "text/plain": [
       "['excel files',\n",
       " 'image files',\n",
       " 'New Microsoft Word Document.docx',\n",
       " 'text files',\n",
       " 'word doc']"
      ]
     },
     "execution_count": 30,
     "metadata": {},
     "output_type": "execute_result"
    }
   ],
   "source": [
    "file_names"
   ]
  },
  {
   "cell_type": "code",
   "execution_count": 31,
   "id": "4f0226c6-e70d-40aa-be02-1c8fe77c97e9",
   "metadata": {},
   "outputs": [],
   "source": [
    "folder_names = [\"excel files\",\"image files\",\"text files\", \"word doc\"]\n",
    "\n",
    "for loop in range(0,4):\n",
    "    if not os.path.exists(path+folder_names[loop]):\n",
    "        os.makedirs(path+folder_names[loop])"
   ]
  },
  {
   "cell_type": "code",
   "execution_count": 32,
   "id": "6899e563-67c0-4e3a-9bfc-e26c977eaaee",
   "metadata": {},
   "outputs": [
    {
     "data": {
      "text/plain": [
       "\"The code is intended to create directories (folders) based on the names specified in the folder_names list, but it has a few issues that need to be \\naddressed. Let's break down the code and then correct it.\""
      ]
     },
     "execution_count": 32,
     "metadata": {},
     "output_type": "execute_result"
    }
   ],
   "source": [
    "'''The code is intended to create directories (folders) based on the names specified in the folder_names list, but it has a few issues that need to be \n",
    "addressed. Let's break down the code and then correct it.'''"
   ]
  },
  {
   "cell_type": "code",
   "execution_count": 39,
   "id": "fd819131-d4bf-42aa-b887-cac80c711964",
   "metadata": {},
   "outputs": [
    {
     "name": "stdout",
     "output_type": "stream",
     "text": [
      "file not present\n",
      "file not present\n",
      "file not present\n",
      "file not present\n",
      "file not present\n"
     ]
    }
   ],
   "source": [
    "for file in file_names:\n",
    "    if \".png\" in file and not os.path.exists(path+\"image files/\"+file):\n",
    "        shutil.move(path+file,path+\"image files/\"+file)\n",
    "    elif \".txt\" in file and not os.path.exists(path+\"text files/\"+file):\n",
    "        shutil.move(path+file,path+\"text files/\"+file)\n",
    "    elif \".xlsx\" in file and not os.path.exists(path+\"excel files/\"+file):\n",
    "        shutil.move(path+file,path+\"excel files/\"+file)\n",
    "    elif \".docx\" in file and not os.path.exists(path+\"word doc/\"+file):\n",
    "        shutil.move(path+file,path+\"word doc/\"+file)\n",
    "    else:\n",
    "        print(\"file not present\")\n",
    "    \n"
   ]
  },
  {
   "cell_type": "code",
   "execution_count": 42,
   "id": "8add7337-42e2-41fb-8a5f-7a3697aa9f54",
   "metadata": {},
   "outputs": [
    {
     "name": "stdout",
     "output_type": "stream",
     "text": [
      "Moved: New Microsoft Word Document.docx to word doc\n",
      "Moved: txt1.txt to text files\n",
      "Moved: txt2.txt to text files\n",
      "Moved: xls1.xlsx to excel files\n"
     ]
    }
   ],
   "source": [
    "import os\n",
    "import shutil\n",
    "\n",
    "# Define the path where you want to create the folders\n",
    "path = r\"C:/Temp/\"  # Replace with your actual path\n",
    "\n",
    "# Define a mapping of folder names to their corresponding file extensions\n",
    "folder_mapping = {\n",
    "    \"excel files\": \".xlsx\",\n",
    "    \"images files\": \".png\",\n",
    "    \"text files\": \".txt\",\n",
    "    \"word doc\": \".docx\"\n",
    "}\n",
    "\n",
    "# Create folders if they do not exist\n",
    "for folder_name in folder_mapping.keys():\n",
    "    folder_path = os.path.join(path, folder_name)\n",
    "    if not os.path.exists(folder_path):\n",
    "        os.makedirs(folder_path)\n",
    "\n",
    "# List all files in the directory\n",
    "file_names = os.listdir(path)\n",
    "\n",
    "# Move files based on their extensions\n",
    "for file in file_names:\n",
    "    for folder_name, extension in folder_mapping.items():\n",
    "        if file.endswith(extension):  # Check if the file ends with the specified extension\n",
    "            source_file = os.path.join(path, file)  # Full path of the source file\n",
    "            destination_file = os.path.join(path, folder_name, file)  # Full path of the destination file\n",
    "            shutil.move(source_file, destination_file)  # Move the file\n",
    "            print(f\"Moved: {file} to {folder_name}\")\n",
    "            break  # Exit the inner loop once a file is moved"
   ]
  },
  {
   "cell_type": "code",
   "execution_count": null,
   "id": "af8db36d-cf08-4c67-8835-0710e1e44211",
   "metadata": {},
   "outputs": [],
   "source": []
  }
 ],
 "metadata": {
  "kernelspec": {
   "display_name": "Python 3 (ipykernel)",
   "language": "python",
   "name": "python3"
  },
  "language_info": {
   "codemirror_mode": {
    "name": "ipython",
    "version": 3
   },
   "file_extension": ".py",
   "mimetype": "text/x-python",
   "name": "python",
   "nbconvert_exporter": "python",
   "pygments_lexer": "ipython3",
   "version": "3.12.7"
  }
 },
 "nbformat": 4,
 "nbformat_minor": 5
}
